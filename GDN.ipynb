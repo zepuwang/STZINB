{
 "cells": [
  {
   "cell_type": "code",
   "execution_count": 1,
   "metadata": {},
   "outputs": [],
   "source": [
    "import numpy as np\n",
    "import pandas as pd"
   ]
  },
  {
   "cell_type": "code",
   "execution_count": 12,
   "metadata": {},
   "outputs": [],
   "source": [
    "from enum import Enum, auto\n",
    "\n",
    "import torch\n",
    "import torch.nn as nn\n",
    "import torch.nn.functional as F\n",
    "import numpy as np\n",
    "import torch\n",
    "import torch.nn as nn\n",
    "import torch.optim as optim\n",
    "\n",
    "\n",
    "class NoiseType(Enum):\n",
    "    DIAGONAL = auto()\n",
    "    ISOTROPIC = auto()\n",
    "    ISOTROPIC_ACROSS_CLUSTERS = auto()\n",
    "    FIXED = auto()\n",
    "\n",
    "\n",
    "class MixtureDensityNetwork(nn.Module):\n",
    "    \"\"\"\n",
    "    Mixture density network.\n",
    "\n",
    "    [ Bishop, 1994 ]\n",
    "\n",
    "    Parameters\n",
    "    ----------\n",
    "    dim_in: int; dimensionality of the covariates\n",
    "    dim_out: int; dimensionality of the response variable\n",
    "    n_components: int; number of components in the mixture model\n",
    "    \"\"\"\n",
    "    def __init__(self, dim_in, dim_out, n_components, hidden_dim, noise_type=NoiseType.DIAGONAL, fixed_noise_level=None):\n",
    "        super().__init__()\n",
    "        assert (fixed_noise_level is not None) == (noise_type is NoiseType.FIXED)\n",
    "        num_sigma_channels = {\n",
    "            NoiseType.DIAGONAL: dim_out * n_components,\n",
    "            NoiseType.ISOTROPIC: n_components,\n",
    "            NoiseType.ISOTROPIC_ACROSS_CLUSTERS: 1,\n",
    "            NoiseType.FIXED: 0,\n",
    "        }[noise_type]\n",
    "        self.dim_in, self.dim_out, self.n_components = dim_in, dim_out, n_components\n",
    "        self.noise_type, self.fixed_noise_level = noise_type, fixed_noise_level\n",
    "        self.pi_network = nn.Sequential(\n",
    "            nn.Linear(dim_in, hidden_dim),\n",
    "            nn.ReLU(),\n",
    "            nn.Linear(hidden_dim, hidden_dim),\n",
    "            nn.ReLU(),\n",
    "            nn.Linear(hidden_dim, n_components),\n",
    "        )\n",
    "        self.normal_network = nn.Sequential(\n",
    "            nn.Linear(dim_in, hidden_dim),\n",
    "            nn.ReLU(),\n",
    "            nn.Linear(hidden_dim, hidden_dim),\n",
    "            nn.ReLU(),\n",
    "            nn.Linear(hidden_dim, dim_out * n_components + num_sigma_channels)\n",
    "        )\n",
    "\n",
    "    def forward(self, x, eps=1e-6):\n",
    "        #\n",
    "        # Returns\n",
    "        # -------\n",
    "        # log_pi: (bsz, n_components)\n",
    "        # mu: (bsz, n_components, dim_out)\n",
    "        # sigma: (bsz, n_components, dim_out)\n",
    "        #\n",
    "        log_pi = torch.log_softmax(self.pi_network(x), dim=-1)\n",
    "        normal_params = self.normal_network(x)\n",
    "        mu = normal_params[..., :self.dim_out * self.n_components]\n",
    "        sigma = normal_params[..., self.dim_out * self.n_components:]\n",
    "        if self.noise_type is NoiseType.DIAGONAL:\n",
    "            sigma = torch.exp(sigma + eps)\n",
    "        if self.noise_type is NoiseType.ISOTROPIC:\n",
    "            sigma = torch.exp(sigma + eps).repeat(1, self.dim_out)\n",
    "        if self.noise_type is NoiseType.ISOTROPIC_ACROSS_CLUSTERS:\n",
    "            sigma = torch.exp(sigma + eps).repeat(1, self.n_components * self.dim_out)\n",
    "        if self.noise_type is NoiseType.FIXED:\n",
    "            sigma = torch.full_like(mu, fill_value=self.fixed_noise_level)\n",
    "        mu = mu.reshape(-1, self.n_components, self.dim_out)\n",
    "        sigma = sigma.reshape(-1, self.n_components, self.dim_out)\n",
    "        return log_pi, mu, sigma\n",
    "\n",
    "    def loss(self, x, y):\n",
    "        log_pi, mu, sigma = self.forward(x)\n",
    "        z_score = (y.unsqueeze(1) - mu) / sigma\n",
    "        normal_loglik = (\n",
    "            -0.5 * torch.einsum(\"bij,bij->bi\", z_score, z_score)\n",
    "            -torch.sum(torch.log(sigma), dim=-1)\n",
    "        )\n",
    "        loglik = torch.logsumexp(log_pi + normal_loglik, dim=-1)\n",
    "        return -loglik\n",
    "\n",
    "    def sample(self, x):\n",
    "        log_pi, mu, sigma = self.forward(x)\n",
    "        cum_pi = torch.cumsum(torch.exp(log_pi), dim=-1)\n",
    "        rvs = torch.rand(len(x), 1).to(x)\n",
    "        rand_pi = torch.searchsorted(cum_pi, rvs)\n",
    "        rand_normal = torch.randn_like(mu) * sigma + mu\n",
    "        samples = torch.take_along_dim(rand_normal, indices=rand_pi.unsqueeze(-1), dim=1).squeeze(dim=1)\n",
    "        return samples"
   ]
  },
  {
   "cell_type": "code",
   "execution_count": 13,
   "metadata": {},
   "outputs": [],
   "source": [
    "data = np.load('/Users/pipipu/Desktop/STZINB/ny_data_full_60min/cta_samp_rand0.npy')"
   ]
  },
  {
   "cell_type": "code",
   "execution_count": 8,
   "metadata": {},
   "outputs": [
    {
     "ename": "NameError",
     "evalue": "name 'torch' is not defined",
     "output_type": "error",
     "traceback": [
      "\u001b[0;31m---------------------------------------------------------------------------\u001b[0m",
      "\u001b[0;31mNameError\u001b[0m                                 Traceback (most recent call last)",
      "Cell \u001b[0;32mIn[8], line 1\u001b[0m\n\u001b[0;32m----> 1\u001b[0m torch\u001b[39m.\u001b[39mmax(data)\n",
      "\u001b[0;31mNameError\u001b[0m: name 'torch' is not defined"
     ]
    }
   ],
   "source": [
    "torch.max(data)"
   ]
  },
  {
   "cell_type": "code",
   "execution_count": 6,
   "metadata": {},
   "outputs": [],
   "source": [
    "adj = np.load('/Users/pipipu/Desktop/STZINB/ny_data_full_60min/adj_rand0.npy')"
   ]
  },
  {
   "cell_type": "code",
   "execution_count": 7,
   "metadata": {},
   "outputs": [
    {
     "data": {
      "text/plain": [
       "(4489, 4489)"
      ]
     },
     "execution_count": 7,
     "metadata": {},
     "output_type": "execute_result"
    }
   ],
   "source": [
    "adj.shape"
   ]
  },
  {
   "cell_type": "code",
   "execution_count": null,
   "metadata": {},
   "outputs": [],
   "source": []
  }
 ],
 "metadata": {
  "kernelspec": {
   "display_name": "DLML",
   "language": "python",
   "name": "python3"
  },
  "language_info": {
   "codemirror_mode": {
    "name": "ipython",
    "version": 3
   },
   "file_extension": ".py",
   "mimetype": "text/x-python",
   "name": "python",
   "nbconvert_exporter": "python",
   "pygments_lexer": "ipython3",
   "version": "3.9.7"
  },
  "orig_nbformat": 4
 },
 "nbformat": 4,
 "nbformat_minor": 2
}
